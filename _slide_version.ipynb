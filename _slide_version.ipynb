{
 "cells": [
  {
   "cell_type": "markdown",
   "metadata": {
    "slideshow": {
     "slide_type": "slide"
    }
   },
   "source": [
    "# A Tensor Playground: \n",
    "\n",
    "### a demonstration of $\\textsf{TensorSpace}$\n",
    "\n",
    "![TensorSpace](images/logo200.png)\n",
    "\n",
    "#### Joshua Maglione\n",
    "\n",
    "jmaglione@math.uni-bielefeld.de\n",
    "\n",
    "Universität Bielefeld"
   ]
  },
  {
   "cell_type": "markdown",
   "metadata": {
    "slideshow": {
     "slide_type": "slide"
    }
   },
   "source": [
    "Began in 2015 and is still evolving.\n",
    "\n",
    "Joint with [Pete Brooksbank](https://www.bucknell.edu/academics/arts-and-sciences-college-of/academic-departments-and-programs/mathematics/faculty-and-staff/peter-brooksbank) and [James Wilson](https://www.math.colostate.edu/~jwilson/). \n",
    "\n",
    "Funded in part by NSF: DMS-1620454."
   ]
  },
  {
   "cell_type": "markdown",
   "metadata": {
    "slideshow": {
     "slide_type": "fragment"
    }
   },
   "source": [
    "$\\textsf{TensorSpace}$ refers to a collection of Magma packages:\n",
    "* [TensorSpace](https://github.com/thetensor-space/TensorSpace): data structures for tensors,\n",
    "* [Sylver](https://github.com/thetensor-space/Sylver): algorithms for simultaneous Sylvester equations,\n",
    "* [Densor](https://github.com/thetensor-space/Densor): algorithms to construct linear closures of tensor spaces."
   ]
  },
  {
   "cell_type": "markdown",
   "metadata": {
    "slideshow": {
     "slide_type": "slide"
    }
   },
   "source": [
    "# Constructing Tensors in $\\textsf{TensorSpace}$"
   ]
  },
  {
   "cell_type": "markdown",
   "metadata": {
    "slideshow": {
     "slide_type": "subslide"
    }
   },
   "source": [
    "## Flexible data structure for tensors \n",
    "\n",
    "**Goal:** Want flexible definition for tensors. \n",
    "\n",
    "**Questions**: Is a tensor more than just...\n",
    "1. a high-dimensional grid? \n",
    "2. a multilinear map?\n",
    "\n",
    "How do the questions we want to answer motivate a data structure?"
   ]
  },
  {
   "cell_type": "markdown",
   "metadata": {
    "slideshow": {
     "slide_type": "subslide"
    }
   },
   "source": [
    "## Examples require context\n",
    "\n",
    "1. $b$ bilinear form of $V$. Interpret:\n",
    "\n",
    "$$\n",
    "    \\langle b | : V \\times V \\rightarrowtail K\n",
    "$$"
   ]
  },
  {
   "cell_type": "markdown",
   "metadata": {
    "slideshow": {
     "slide_type": "fragment"
    }
   },
   "source": [
    "2. $\\psi$ an entangled system of qubits. Interpret:\n",
    "\n",
    "$$\n",
    "    \\langle \\psi | : \\mathbb{C}^2\\times \\cdots \\times \\mathbb{C}^2 \\rightarrowtail \\mathbb{C}\n",
    "$$"
   ]
  },
  {
   "cell_type": "markdown",
   "metadata": {
    "slideshow": {
     "slide_type": "fragment"
    }
   },
   "source": [
    "3. $V$ an $A$-module. Interpret:\n",
    "\n",
    "$$\n",
    "    \\langle \\mu | : V \\times A \\rightarrowtail V\n",
    "$$\n"
   ]
  },
  {
   "cell_type": "markdown",
   "metadata": {
    "slideshow": {
     "slide_type": "skip"
    }
   },
   "source": [
    "4. $T$ a high-dimensional grid of bits. Interpret:\n",
    "\n",
    "$$\n",
    "    \\langle T | : \\mathbb{F}_2^{d_n} \\times \\cdots \\times \\mathbb{F}_2^{d_1} \\rightarrowtail \\mathbb{F}_2^{d_0}\n",
    "$$"
   ]
  },
  {
   "cell_type": "markdown",
   "metadata": {
    "slideshow": {
     "slide_type": "slide"
    }
   },
   "source": [
    "## Tensors in $\\textsf{TensorSpace}$ are *framed*\n",
    "\n",
    "We require tensors to have three things:\n",
    "1. **frame**: \n",
    "$$\n",
    "(U_0, ..., U_n),\n",
    "$$\n",
    "2. **function**: \n",
    "$$\n",
    "U_n\\times ... \\times U_1\\rightarrowtail U_0,\n",
    "$$\n",
    "3. **category**\\*."
   ]
  },
  {
   "cell_type": "markdown",
   "metadata": {
    "slideshow": {
     "slide_type": "fragment"
    }
   },
   "source": [
    "\\*We do not specify now, but we will come back to this. \n",
    "\n",
    "A \"default\" category is assigned when not given."
   ]
  },
  {
   "cell_type": "markdown",
   "metadata": {
    "slideshow": {
     "slide_type": "slide"
    }
   },
   "source": [
    "## Constructing a tensor from scratch\n",
    "\n",
    "We construct the tensor \n",
    "\n",
    "$$\n",
    "\\begin{aligned}\n",
    "    t : \\text{M}_2(\\mathbb{Q}) \\times \\text{M}_2(\\mathbb{Q}) &\\rightarrowtail \\text{M}_2(\\mathbb{Q}),\\\\ (A, B) &\\mapsto AB\n",
    "\\end{aligned}\n",
    "$$\n",
    "\n",
    "We have two structures we define:\n",
    "1. **frame** \n",
    "$$\n",
    "(\\text{M}_2(\\mathbb{Q}),\\; \\text{M}_2(\\mathbb{Q}),\\; \\text{M}_2(\\mathbb{Q})),\n",
    "$$\n",
    "2. **function** \n",
    "$$\n",
    "(A, B)\\mapsto AB.\n",
    "$$\n"
   ]
  },
  {
   "cell_type": "markdown",
   "metadata": {
    "slideshow": {
     "slide_type": "subslide"
    }
   },
   "source": [
    "First we define our frame."
   ]
  },
  {
   "cell_type": "code",
   "execution_count": 1,
   "metadata": {
    "slideshow": {
     "slide_type": "-"
    }
   },
   "outputs": [
    {
     "name": "stdout",
     "output_type": "stream",
     "text": [
      "[\n",
      "Full Matrix Algebra of degree 2 over Rational Field,\n",
      "Full Matrix Algebra of degree 2 over Rational Field,\n",
      "Full Matrix Algebra of degree 2 over Rational Field\n",
      "]\n"
     ]
    }
   ],
   "source": [
    "Q := Rationals();           \n",
    "A := MatrixAlgebra(Q, 2);              // 2 x 2 matrices over Q\n",
    "frame := [A, A, A]; \n",
    "frame;"
   ]
  },
  {
   "cell_type": "markdown",
   "metadata": {
    "slideshow": {
     "slide_type": "fragment"
    }
   },
   "source": [
    "Require a function to map a tuple of matrices to their product. For example:"
   ]
  },
  {
   "cell_type": "code",
   "execution_count": 2,
   "metadata": {},
   "outputs": [
    {
     "name": "stdout",
     "output_type": "stream",
     "text": [
      "Tensor of valence 3, U2 x U1 >-> U0\n",
      "U2 : Full Vector space of degree 4 over Rational Field\n",
      "U1 : Full Vector space of degree 4 over Rational Field\n",
      "U0 : Full Vector space of degree 4 over Rational Field\n"
     ]
    }
   ],
   "source": [
    "mult := func< x | x[1]*x[2] >;         // <A, B> |-> A*B\n",
    "t := Tensor(frame, mult);\n",
    "t;"
   ]
  },
  {
   "cell_type": "markdown",
   "metadata": {
    "slideshow": {
     "slide_type": "slide"
    }
   },
   "source": [
    "## Tensors as multilinear functions\n",
    "\n",
    "Let's do a brief sanity check, and verify $t$ does what we expect."
   ]
  },
  {
   "cell_type": "code",
   "execution_count": 3,
   "metadata": {},
   "outputs": [
    {
     "name": "stdout",
     "output_type": "stream",
     "text": [
      "[  2 2/5]\n",
      "[  0  -1]\n",
      "\n",
      "[ 0 -3]\n",
      "[ 5  7]\n"
     ]
    }
   ],
   "source": [
    "X := A![2, 2/5, 0, -1];               // define matrices\n",
    "Y := A![0, -3, 5, 7];                 // from sequences \n",
    "X, Y;"
   ]
  },
  {
   "cell_type": "code",
   "execution_count": 4,
   "metadata": {
    "slideshow": {
     "slide_type": "fragment"
    }
   },
   "outputs": [
    {
     "name": "stdout",
     "output_type": "stream",
     "text": [
      "[    2 -16/5]\n",
      "[   -5    -7]\n",
      "(    2 -16/5    -5    -7)\n"
     ]
    }
   ],
   "source": [
    "X*Y, <X, Y> @ t;"
   ]
  },
  {
   "cell_type": "markdown",
   "metadata": {
    "slideshow": {
     "slide_type": "subslide"
    }
   },
   "source": [
    "Recall, the print statement for $t$: **no** matrix algebras"
   ]
  },
  {
   "cell_type": "code",
   "execution_count": 5,
   "metadata": {},
   "outputs": [
    {
     "name": "stdout",
     "output_type": "stream",
     "text": [
      "Tensor of valence 3, U2 x U1 >-> U0\n",
      "U2 : Full Vector space of degree 4 over Rational Field\n",
      "U1 : Full Vector space of degree 4 over Rational Field\n",
      "U0 : Full Vector space of degree 4 over Rational Field\n"
     ]
    }
   ],
   "source": [
    "t;"
   ]
  },
  {
   "cell_type": "markdown",
   "metadata": {
    "slideshow": {
     "slide_type": "fragment"
    }
   },
   "source": [
    "It states vector spaces, but we gave it matrices: $X$ and $Y$. \n",
    "\n",
    "The frame gives context, so that we leave the typing to the machines. "
   ]
  },
  {
   "cell_type": "code",
   "execution_count": 6,
   "metadata": {},
   "outputs": [
    {
     "name": "stdout",
     "output_type": "stream",
     "text": [
      "(    2 -16/5    -5    -7)\n",
      "(0 0 0 0)\n"
     ]
    }
   ],
   "source": [
    "<X, [0, -3, 5, 7]> @ t;\n",
    "<0, [1, 1, 1, 1]> @ t;"
   ]
  },
  {
   "cell_type": "markdown",
   "metadata": {
    "slideshow": {
     "slide_type": "slide"
    }
   },
   "source": [
    "## Structure constants \n",
    "\n",
    "We define a tensor of the form \n",
    "\n",
    "$$\n",
    "\\langle t| : K^{d_n} \\times \\cdots \\times K^{d_1} \\rightarrowtail K^{d_0}\n",
    "$$\n",
    "\n",
    "by $d_0\\cdots d_n$ elements in $K$: a $(d_n\\times \\cdots \\times d_0)$-grid \n",
    "$$\n",
    "[t_{i_n\\cdots i_1}^{i_0}].\n",
    "$$"
   ]
  },
  {
   "cell_type": "markdown",
   "metadata": {
    "slideshow": {
     "slide_type": "fragment"
    }
   },
   "source": [
    "Notational challenge to do this for general $n$. We do $n=2$:\n",
    "\n",
    "$$\n",
    "(u, v)\\mapsto \\left( \n",
    "\t\t\\sum_{i=1}^{d_2}\\sum_{j=1}^{d_1} u_{i}t_{ij}^{1} v_{j},\n",
    "\t\t\\ldots,\n",
    "\t\t\\sum_{i=1}^{d_2}\\sum_{j=1}^{d_1} u_{i}t_{ij}^{d_0} v_{j}\\right)\\in K^{d_0}.\n",
    "$$"
   ]
  },
  {
   "cell_type": "markdown",
   "metadata": {
    "slideshow": {
     "slide_type": "subslide"
    }
   },
   "source": [
    "Now, let's construct an example."
   ]
  },
  {
   "cell_type": "code",
   "execution_count": 7,
   "metadata": {},
   "outputs": [
    {
     "name": "stdout",
     "output_type": "stream",
     "text": [
      "Tensor of valence 4, U3 x U2 x U1 >-> U0\n",
      "U3 : Full Vector space of degree 3 over Rational Field\n",
      "U2 : Full Vector space of degree 2 over Rational Field\n",
      "U1 : Full Vector space of degree 5 over Rational Field\n",
      "U0 : Full Vector space of degree 4 over Rational Field\n"
     ]
    }
   ],
   "source": [
    "d := [3, 2, 5, 4];                 // dimensions of frame\n",
    "grid := [1..3*2*5*4];              // ints 1, ..., 120\n",
    "t := Tensor(Q, d, grid);\n",
    "t;"
   ]
  },
  {
   "cell_type": "markdown",
   "metadata": {
    "slideshow": {
     "slide_type": "fragment"
    }
   },
   "source": [
    "We verify that the structure constants of $t$ are what we expect."
   ]
  },
  {
   "cell_type": "code",
   "execution_count": 8,
   "metadata": {},
   "outputs": [
    {
     "name": "stdout",
     "output_type": "stream",
     "text": [
      "[ 1, 2, 3, 4, 5, 6, 7, 8, 9, 10 ]\n"
     ]
    }
   ],
   "source": [
    "StructureConstants(t)[1..10];       // Only first 10 entries"
   ]
  },
  {
   "cell_type": "markdown",
   "metadata": {
    "slideshow": {
     "slide_type": "subslide"
    }
   },
   "source": [
    "The grid model allows for easier understanding of data manipulation. \n",
    "\n",
    "We describe two operations on tensors that potentially change the frame.\n",
    "\n",
    "![Slice and dice](images/slice_dice350.png)"
   ]
  },
  {
   "cell_type": "markdown",
   "metadata": {
    "slideshow": {
     "slide_type": "slide"
    }
   },
   "source": [
    "## Slicing\n",
    "\n",
    "Recall, our current tensor has the frame:\n",
    "$$\n",
    "    \\langle t | : \\mathbb{Q}^3 \\times \\mathbb{Q}^2 \\times \\mathbb{Q}^5 \\rightarrow \\mathbb{Q}^4\n",
    "$$\n",
    "\n",
    "We grab any entry of the grid  $[t_{i_n\\cdots i_1}^{i_0}]$ and consider the corresponding sub-grid.\n",
    "\n",
    "This can be interpreted as a tensor itself."
   ]
  },
  {
   "cell_type": "markdown",
   "metadata": {
    "slideshow": {
     "slide_type": "fragment"
    }
   },
   "source": [
    "We query for the $t_{3,2,5}^{4}$ constant:"
   ]
  },
  {
   "cell_type": "code",
   "execution_count": 9,
   "metadata": {},
   "outputs": [
    {
     "name": "stdout",
     "output_type": "stream",
     "text": [
      "[ 120 ]\n"
     ]
    }
   ],
   "source": [
    "ind := [{3}, {2}, {5}, {4}];                  // last entry\n",
    "Slice(t, ind);"
   ]
  },
  {
   "cell_type": "markdown",
   "metadata": {
    "slideshow": {
     "slide_type": "subslide"
    }
   },
   "source": [
    "We can query any sequence of indices."
   ]
  },
  {
   "cell_type": "code",
   "execution_count": 10,
   "metadata": {},
   "outputs": [
    {
     "name": "stdout",
     "output_type": "stream",
     "text": [
      "[ 24, 32, 36, 104, 112, 116 ]\n"
     ]
    }
   ],
   "source": [
    "indices := [{1, 3}, {2}, {1, 3, 4}, {4}];     // 2*1*3*1 entries\n",
    "Slice(t, indices);"
   ]
  },
  {
   "cell_type": "markdown",
   "metadata": {
    "slideshow": {
     "slide_type": "fragment"
    }
   },
   "source": [
    "The above example can be interpreted as a new tensor\n",
    "$$\n",
    "    \\langle s | : \\mathbb{Q}^2 \\times \\mathbb{Q} \\times \\mathbb{Q}^3 \\rightarrowtail \\mathbb{Q}.\n",
    "$$\n",
    "\n",
    "So it might be helpful to interpret the output as a matrix."
   ]
  },
  {
   "cell_type": "code",
   "execution_count": 11,
   "metadata": {},
   "outputs": [
    {
     "name": "stdout",
     "output_type": "stream",
     "text": [
      "[\n",
      "[ 24  32  36]\n",
      "[104 112 116]\n",
      "]\n"
     ]
    }
   ],
   "source": [
    "SliceAsMatrices(t, indices, 3, 1);"
   ]
  },
  {
   "cell_type": "markdown",
   "metadata": {
    "slideshow": {
     "slide_type": "slide"
    }
   },
   "source": [
    "## Shuffling\n",
    "\n",
    "We apply permutations to the frame. Suppose we are framed by vector spaces\n",
    "\n",
    "$$\n",
    "\\langle t | : U_n \\times \\cdots \\times U_1\\rightarrowtail U_0.\n",
    "$$\n",
    "\n",
    "For a permutation $\\sigma$ of $\\{0, \\ldots, n\\}$, a $\\sigma$-shuffle of $t$ is a tensor\n",
    "\n",
    "$$\n",
    "\\langle \\sigma(t) | : U_{\\sigma(n)} \\times \\cdots \\times U_{\\sigma(1)} \\rightarrowtail U_{\\sigma(0)}.\n",
    "$$\n",
    "\n",
    "*Note*: shuffling requires dual-spaces. $\\textsf{TensorSpace}$ handles this."
   ]
  },
  {
   "cell_type": "markdown",
   "metadata": {
    "slideshow": {
     "slide_type": "subslide"
    }
   },
   "source": [
    "We continue with current example:\n",
    "\n",
    "$$\n",
    "    \\langle t | : \\mathbb{Q}^3 \\times \\mathbb{Q}^2 \\times \\mathbb{Q}^5 \\rightarrowtail \\mathbb{Q}^4.\n",
    "$$\n",
    "\n",
    "We apply the permutation $\\sigma = (0, 2, 3, 1)$."
   ]
  },
  {
   "cell_type": "code",
   "execution_count": 12,
   "metadata": {},
   "outputs": [
    {
     "name": "stdout",
     "output_type": "stream",
     "text": [
      "Tensor of valence 4, U3 x U2 x U1 >-> U0\n",
      "U3 : Full Vector space of degree 5 over Rational Field\n",
      "U2 : Full Vector space of degree 3 over Rational Field\n",
      "U1 : Full Vector space of degree 4 over Rational Field\n",
      "U0 : Full Vector space of degree 2 over Rational Field\n"
     ]
    }
   ],
   "source": [
    "sigma := [2, 0, 3, 1];                // cycle: (0, 2, 3, 1)\n",
    "s := Shuffle(t, sigma);\n",
    "s;"
   ]
  },
  {
   "cell_type": "markdown",
   "metadata": {
    "slideshow": {
     "slide_type": "fragment"
    }
   },
   "source": [
    "We can take a look at the structure constants."
   ]
  },
  {
   "cell_type": "code",
   "execution_count": 13,
   "metadata": {},
   "outputs": [
    {
     "name": "stdout",
     "output_type": "stream",
     "text": [
      "[ 1, 3, 5, 7, 25, 27, 29, 31, 49, 51 ]\n"
     ]
    }
   ],
   "source": [
    "StructureConstants(s)[1..10];        // first 10 entries"
   ]
  },
  {
   "cell_type": "markdown",
   "metadata": {
    "slideshow": {
     "slide_type": "slide"
    }
   },
   "source": [
    "# Algebras associated to tensors"
   ]
  },
  {
   "cell_type": "markdown",
   "metadata": {
    "slideshow": {
     "slide_type": "subslide"
    }
   },
   "source": [
    "These definitions apply in greater generality, but we fix a $K$-bilinear map \n",
    "\n",
    "$$\n",
    "    \\langle t | : U\\times V\\rightarrowtail W.\n",
    "$$\n",
    "\n",
    "Set $\\Omega = \\text{End}(U)\\times \\text{End}(V)\\times \\text{End}(W)$. All of our algebras are subsets of $\\Omega$."
   ]
  },
  {
   "cell_type": "markdown",
   "metadata": {
    "slideshow": {
     "slide_type": "fragment"
    }
   },
   "source": [
    "The first algebra we define is the *centroid*, and the second is the *derivation algebra*.\n",
    "\n",
    "$$\n",
    "\\begin{aligned}\n",
    "\\mathcal{C}_t &= \\{ (X, Y, Z) \\in\\Omega \\mid \\forall u, v,\\; \\langle t | Xu, v\\rangle = \\langle t | u, Yv\\rangle = Z\\langle t | u, v\\rangle \\} \\\\\n",
    "\\mathcal{D}_t &= \\{ (X, Y, Z) \\in \\Omega \\mid \\forall u, v,\\; \\langle t | Xu, v\\rangle + \\langle t | u, Yv\\rangle = Z\\langle t | u, v\\rangle \\}\n",
    "\\end{aligned}\n",
    "$$"
   ]
  },
  {
   "cell_type": "markdown",
   "metadata": {
    "slideshow": {
     "slide_type": "fragment"
    }
   },
   "source": [
    "**Fact.** $\\mathcal{C}_t$ is a $K$-algebra with $1$, and $\\mathcal{D}_t$ is a Lie algebra. "
   ]
  },
  {
   "cell_type": "markdown",
   "metadata": {
    "slideshow": {
     "slide_type": "slide"
    }
   },
   "source": [
    "# An example from quantum info. theory"
   ]
  },
  {
   "cell_type": "markdown",
   "metadata": {
    "slideshow": {
     "slide_type": "subslide"
    }
   },
   "source": [
    "The Greenberger$-$Horne$-$Zeilinger (GHZ) state is \n",
    "$$\n",
    "\\begin{aligned}\n",
    "\\sqrt{2} \\cdot GHZ &= |000\\rangle + |111\\rangle \\\\\n",
    "&\\equiv (e_1\\otimes e_1\\otimes e_1) + (e_2\\otimes e_2\\otimes e_2) \\\\\n",
    "&\\equiv \\begin{bmatrix}\n",
    "(1,0) & (0,0) \\\\ (0,0) & (0,1)\n",
    "\\end{bmatrix}.\n",
    "\\end{aligned}\n",
    "$$"
   ]
  },
  {
   "cell_type": "markdown",
   "metadata": {
    "slideshow": {
     "slide_type": "fragment"
    }
   },
   "source": [
    "The W state is \n",
    "$$\n",
    "\\begin{aligned}\n",
    "\\sqrt{3} \\cdot W &= |001\\rangle + |010\\rangle + |100\\rangle \\\\\n",
    "&\\equiv (e_1\\otimes e_1\\otimes e_2) + (e_1\\otimes e_2\\otimes e_1) + (e_2\\otimes e_1\\otimes e_1) \\\\\n",
    "&\\equiv \\begin{bmatrix}\n",
    "(0,1) & (1,0) \\\\ (1,0) & (0,0) \n",
    "\\end{bmatrix}.\n",
    "\\end{aligned}\n",
    "$$"
   ]
  },
  {
   "cell_type": "markdown",
   "metadata": {
    "slideshow": {
     "slide_type": "subslide"
    }
   },
   "source": [
    "Both states are $(2\\times 2\\times 2)$-grids. We interpret these states as \n",
    "\n",
    "$$\n",
    "\\begin{aligned}\n",
    "\\langle GHZ| &: \\mathbb{C}^2\\times \\mathbb{C}^2 \\rightarrowtail \\mathbb{C}^2 , \\\\\n",
    "\\langle W| &: \\mathbb{C}^2\\times \\mathbb{C}^2 \\rightarrowtail \\mathbb{C}^2\n",
    "\\end{aligned}\n",
    "$$\n",
    "\n",
    "(*Typically interpreted as $\\mathbb{C}^2 \\times \\mathbb{C}^2 \\times \\mathbb{C}^2 \\rightarrowtail \\mathbb{C}$.*)"
   ]
  },
  {
   "cell_type": "markdown",
   "metadata": {
    "slideshow": {
     "slide_type": "fragment"
    }
   },
   "source": [
    "**Question:** GHZ and W are contained in the same space. Maybe there is a change of basis (of each $\\mathbb{C}^2$) that makes GHZ and W equivalent?\n"
   ]
  },
  {
   "cell_type": "markdown",
   "metadata": {
    "slideshow": {
     "slide_type": "fragment"
    }
   },
   "source": [
    "(There isn't)"
   ]
  },
  {
   "cell_type": "markdown",
   "metadata": {
    "slideshow": {
     "slide_type": "subslide"
    }
   },
   "source": [
    "Let's construct the tensors (over $\\mathbb{Q}$)."
   ]
  },
  {
   "cell_type": "code",
   "execution_count": 14,
   "metadata": {},
   "outputs": [
    {
     "name": "stdout",
     "output_type": "stream",
     "text": []
    }
   ],
   "source": [
    "Q := Rationals();\n",
    "d := [2, 2, 2];                                 // dimensions of frame\n",
    "GHZ := Tensor(Q, d, [1, 0, 0, 0, 0, 0, 0, 1]);\n",
    "W := Tensor(Q, d, [0, 1, 1, 0, 1, 0, 0, 0]);"
   ]
  },
  {
   "cell_type": "markdown",
   "metadata": {
    "slideshow": {
     "slide_type": "fragment"
    }
   },
   "source": [
    "Quick sanity check."
   ]
  },
  {
   "cell_type": "code",
   "execution_count": 15,
   "metadata": {},
   "outputs": [
    {
     "name": "stdout",
     "output_type": "stream",
     "text": [
      "[\n",
      "[1 0]\n",
      "[0 0],\n",
      "\n",
      "[0 0]\n",
      "[0 1]\n",
      "]\n"
     ]
    }
   ],
   "source": [
    "AsMatrices(GHZ, 2, 1);"
   ]
  },
  {
   "cell_type": "markdown",
   "metadata": {
    "slideshow": {
     "slide_type": "subslide"
    }
   },
   "source": [
    "Now we compute their centroids."
   ]
  },
  {
   "cell_type": "code",
   "execution_count": 16,
   "metadata": {},
   "outputs": [
    {
     "name": "stdout",
     "output_type": "stream",
     "text": [
      "Matrix Algebra of degree 6 with 2 generators over Rational Field\n",
      "Matrix Algebra of degree 6 with 2 generators over Rational Field\n"
     ]
    }
   ],
   "source": [
    "C_GHZ := Centroid(GHZ);\n",
    "C_W := Centroid(W);\n",
    "C_GHZ, C_W;"
   ]
  },
  {
   "cell_type": "code",
   "execution_count": 17,
   "metadata": {
    "slideshow": {
     "slide_type": "fragment"
    }
   },
   "outputs": [
    {
     "name": "stdout",
     "output_type": "stream",
     "text": [
      "[\n",
      "[1 0 0 0 0 0]\n",
      "[0 1 0 0 0 0]\n",
      "[0 0 1 0 0 0]\n",
      "[0 0 0 1 0 0]\n",
      "[0 0 0 0 1 0]\n",
      "[0 0 0 0 0 1],\n",
      "\n",
      "[0 1 0 0 0 0]\n",
      "[0 0 0 0 0 0]\n",
      "[0 0 0 1 0 0]\n",
      "[0 0 0 0 0 0]\n",
      "[0 0 0 0 0 0]\n",
      "[0 0 0 0 1 0]\n",
      "]\n"
     ]
    }
   ],
   "source": [
    "Basis(C_W);"
   ]
  },
  {
   "cell_type": "markdown",
   "metadata": {
    "slideshow": {
     "slide_type": "subslide"
    }
   },
   "source": [
    "Let's play around with $\\mathcal{C}_W$."
   ]
  },
  {
   "cell_type": "code",
   "execution_count": 18,
   "metadata": {},
   "outputs": [
    {
     "name": "stdout",
     "output_type": "stream",
     "text": [
      "[1 1 0 0 0 0]\n",
      "[0 1 0 0 0 0]\n",
      "[0 0 1 1 0 0]\n",
      "[0 0 0 1 0 0]\n",
      "[0 0 0 0 1 0]\n",
      "[0 0 0 0 1 1]\n"
     ]
    }
   ],
   "source": [
    "M := C_W.1 + C_W.2;                   // an element of the ring\n",
    "M;"
   ]
  },
  {
   "cell_type": "markdown",
   "metadata": {
    "slideshow": {
     "slide_type": "fragment"
    }
   },
   "source": [
    "We can get the individual blocks. "
   ]
  },
  {
   "cell_type": "code",
   "execution_count": 19,
   "metadata": {},
   "outputs": [
    {
     "name": "stdout",
     "output_type": "stream",
     "text": [
      "[1 0]\n",
      "[1 1]\n"
     ]
    }
   ],
   "source": [
    "X := M @ Induce(C_W, 2);                     // build map\n",
    "Y := M @ Induce(C_W, 1);                     // for each\n",
    "Z := M @ Induce(C_W, 0);                     // coordinate\n",
    "Z;"
   ]
  },
  {
   "cell_type": "markdown",
   "metadata": {
    "slideshow": {
     "slide_type": "subslide"
    }
   },
   "source": [
    "Build two vectors from our $2$-dimensional vector space. "
   ]
  },
  {
   "cell_type": "code",
   "execution_count": 20,
   "metadata": {},
   "outputs": [
    {
     "name": "stdout",
     "output_type": "stream",
     "text": [
      "(  -1 22/7)\n",
      "( 1/2 4/27)\n"
     ]
    }
   ],
   "source": [
    "V := VectorSpace(Q, 2);\n",
    "u := V![-1, 22/7];\n",
    "v := V![1/2, 4/27];\n",
    "u, v;"
   ]
  },
  {
   "cell_type": "markdown",
   "metadata": {
    "slideshow": {
     "slide_type": "fragment"
    }
   },
   "source": [
    "Verify the centroid satisfies the two equations:\n",
    "$$\n",
    "    \\langle W | Xu, v \\rangle = \\langle W | u, Yv \\rangle = Z \\langle W | u, v \\rangle.\n",
    "$$"
   ]
  },
  {
   "cell_type": "code",
   "execution_count": 21,
   "metadata": {},
   "outputs": [
    {
     "name": "stdout",
     "output_type": "stream",
     "text": [
      "true\n",
      "true\n"
     ]
    }
   ],
   "source": [
    "<u*X, v> @ W eq <u, v*Y> @ W;            // 1st eqn\n",
    "<u, v*Y> @ W eq (<u, v> @ W)*Z;          // 2nd eqn"
   ]
  },
  {
   "cell_type": "markdown",
   "metadata": {
    "slideshow": {
     "slide_type": "subslide"
    }
   },
   "source": [
    "We distinguish $W$ and $GHZ$ by the nilpotent elements of their centroids."
   ]
  },
  {
   "cell_type": "code",
   "execution_count": 22,
   "metadata": {
    "slideshow": {
     "slide_type": "fragment"
    }
   },
   "outputs": [
    {
     "name": "stdout",
     "output_type": "stream",
     "text": [
      "0 1\n"
     ]
    }
   ],
   "source": [
    "J_GHZ := JacobsonRadical(C_GHZ);\n",
    "J_W := JacobsonRadical(C_W);\n",
    "Dimension(J_GHZ), Dimension(J_W);"
   ]
  },
  {
   "cell_type": "markdown",
   "metadata": {
    "slideshow": {
     "slide_type": "fragment"
    }
   },
   "source": [
    "Because dimension of $J(GHZ)$ is different from $J(W)$ these states are **inequivalent**.\n",
    "\n",
    "With a little work, one shows that \n",
    "$$\n",
    "\\begin{aligned}\n",
    "  \\mathcal{C}_{GHZ} &\\cong \\mathbb{C}^2, & \\mathcal{C}_{W} &\\cong \\mathbb{C}[x]/\\left(x^2\\right).\n",
    "\\end{aligned}\n",
    "$$"
   ]
  },
  {
   "cell_type": "markdown",
   "metadata": {
    "slideshow": {
     "slide_type": "subslide"
    }
   },
   "source": [
    "Oh, and just by wiggling your pinky...\n",
    "\n",
    "The derivation algebras bring their differences to the surface."
   ]
  },
  {
   "cell_type": "code",
   "execution_count": 23,
   "metadata": {
    "slideshow": {
     "slide_type": "fragment"
    }
   },
   "outputs": [
    {
     "name": "stdout",
     "output_type": "stream",
     "text": [
      "4 5\n"
     ]
    }
   ],
   "source": [
    "D_GHZ := DerivationAlgebra(GHZ);\n",
    "D_W := DerivationAlgebra(W);\n",
    "Dimension(D_GHZ), Dimension(D_W);"
   ]
  },
  {
   "cell_type": "markdown",
   "metadata": {},
   "source": [
    "$$\n",
    "    \\dim_{\\mathbb{C}}(\\mathcal{D}_{GHZ}) = 4 \\ne 5 = \\dim_{\\mathbb{C}}(\\mathcal{D}_{W}).\n",
    "$$"
   ]
  },
  {
   "cell_type": "markdown",
   "metadata": {
    "slideshow": {
     "slide_type": "slide"
    }
   },
   "source": [
    "# What is really happening under the hood?"
   ]
  },
  {
   "cell_type": "markdown",
   "metadata": {
    "slideshow": {
     "slide_type": "subslide"
    }
   },
   "source": [
    "The equation $\\langle t | Xu, v\\rangle = \\langle t | u, Yv\\rangle$ becomes\n",
    "\n",
    "$$\n",
    "    XT^{(k)}_{**} - T^{(k)}_{**}Y = 0, \n",
    "$$\n",
    "\n",
    "where $T^{(k)}_{**}$ is the $k$th slice in the $0$-coordinate as a matrix:\n",
    "\n",
    "$$\n",
    "    T_{**}^{(k)} = \\begin{bmatrix}\n",
    "        t_{11}^{k} & t_{12}^{k} & \\cdots \\\\\n",
    "        t_{21}^{k} & t_{22}^{k} & \\cdots \\\\\n",
    "        \\vdots & \\vdots & \\ddots\n",
    "    \\end{bmatrix}\n",
    "$$"
   ]
  },
  {
   "cell_type": "markdown",
   "metadata": {
    "slideshow": {
     "slide_type": "subslide"
    }
   },
   "source": [
    "![Slice-0](images/sylver-0.png)"
   ]
  },
  {
   "cell_type": "markdown",
   "metadata": {
    "slideshow": {
     "slide_type": "subslide"
    }
   },
   "source": [
    "The equation $\\langle t | Xu, v\\rangle = Z\\langle t | u, v\\rangle$ becomes\n",
    "\n",
    "$$\n",
    "XT^{*}_{*j} - T^{*}_{*j}Z = 0, \n",
    "$$\n",
    "\n",
    "where $T^{*}_{*j}$ is the $j$th slice in the $1$-coordinate as a matrix:\n",
    "\n",
    "$$\n",
    "    T_{*j}^{*} = \\begin{bmatrix}\n",
    "        t_{1j}^{1} & t_{1j}^{2} & \\cdots \\\\\n",
    "        t_{2j}^{1} & t_{2j}^{2} & \\cdots \\\\\n",
    "        \\vdots & \\vdots & \\ddots\n",
    "    \\end{bmatrix}\n",
    "$$"
   ]
  },
  {
   "cell_type": "markdown",
   "metadata": {
    "slideshow": {
     "slide_type": "subslide"
    }
   },
   "source": [
    "![slice-1](images/sylver-1.png)"
   ]
  },
  {
   "cell_type": "markdown",
   "metadata": {
    "slideshow": {
     "slide_type": "slide"
    }
   },
   "source": [
    "## Solving simultaneous Sylvester systems: $\\textsf{Sylver}$\n",
    "\n",
    "These algorithms are part of a general family of Sylvester-like equations: \n",
    "\n",
    "$$\n",
    "XA + BY = C.\n",
    "$$\n",
    "\n",
    "We need to solve a simultaneous system of Sylvester-like equations. "
   ]
  },
  {
   "cell_type": "markdown",
   "metadata": {
    "slideshow": {
     "slide_type": "fragment"
    }
   },
   "source": [
    "Naively, this requires $O(d^7)$ field operations for a $(d\\times d\\times d)$-grid. \n",
    "\n",
    "Generally, construct a basis of kernel of a $(d_0\\cdots d_n) \\times (d_0^2 +\\cdots + d_n^2)$-matrix."
   ]
  },
  {
   "cell_type": "markdown",
   "metadata": {
    "slideshow": {
     "slide_type": "subslide"
    }
   },
   "source": [
    "**Theorem (M.-Wilson 2018).** There is an algorithm to solve simultaneous Sylvester equations of a nondegenerate $(d\\times d\\times d)$-grid using $O(d^4)$ field operations."
   ]
  },
  {
   "cell_type": "markdown",
   "metadata": {
    "slideshow": {
     "slide_type": "fragment"
    }
   },
   "source": [
    "### *Open*: Extend this to general tensors and implement it."
   ]
  },
  {
   "cell_type": "markdown",
   "metadata": {
    "slideshow": {
     "slide_type": "slide"
    }
   },
   "source": [
    "# Tensor spaces and tensor categories"
   ]
  },
  {
   "cell_type": "markdown",
   "metadata": {
    "slideshow": {
     "slide_type": "subslide"
    }
   },
   "source": [
    "Tensor spaces are the spaces containing tensors. Therefore, defined similarly to tensors. "
   ]
  },
  {
   "cell_type": "markdown",
   "metadata": {
    "slideshow": {
     "slide_type": "fragment"
    }
   },
   "source": [
    "A tensor space $T$ is a $K$-vector space with \n",
    "1. a frame \n",
    "$$\n",
    "(U_0, \\ldots, U_n),\n",
    "$$\n",
    "2. an interpreter map \n",
    "$$\n",
    "\\langle \\cdot | : T\\rightarrow \\left( U_n\\times \\cdots \\times U_1\\rightarrowtail U_0\\right),\n",
    "$$\n",
    "3. a category,\n",
    "4. a basis."
   ]
  },
  {
   "cell_type": "markdown",
   "metadata": {
    "slideshow": {
     "slide_type": "fragment"
    }
   },
   "source": [
    "The map $\\langle \\cdot |$ gives every $t\\in T$ a multilinear map interpretation \n",
    "\n",
    "$$\n",
    "    \\langle t | : U_n\\times \\cdots \\times U_1\\rightarrowtail U_0.\n",
    "$$"
   ]
  },
  {
   "cell_type": "markdown",
   "metadata": {
    "slideshow": {
     "slide_type": "slide"
    }
   },
   "source": [
    "## Examples that hint towards tensor categories\n",
    "\n",
    "1. Equivalence up to a change of bases. The states $GHZ$ and $W$ are inequivalent.\n",
    "\n",
    "   For all $X, Y, Z\\in \\text{GL}_2(\\mathbb{C})$, there exists $u,v\\in\\mathbb{C}^2$ such that \n",
    "\n",
    "    $$\n",
    "    \\begin{aligned}\n",
    "    Z\\langle GHZ | Xu, Yv\\rangle \\ne \\langle W | u, v \\rangle.\n",
    "    \\end{aligned}\n",
    "    $$"
   ]
  },
  {
   "cell_type": "markdown",
   "metadata": {
    "slideshow": {
     "slide_type": "fragment"
    }
   },
   "source": [
    "![homotopism category](images/cohomotopism.png)"
   ]
  },
  {
   "cell_type": "markdown",
   "metadata": {
    "slideshow": {
     "slide_type": "subslide"
    }
   },
   "source": [
    "2. Equivalence of algebras: an isomorphism. \n",
    "\n",
    "   There exists $\\varphi\\in\\text{GL}(A)$ such that for all $a,b\\in A$\n",
    "    $$\n",
    "    \\begin{aligned}\n",
    "    \\varphi(ab) &= \\varphi(a)\\varphi(b).\n",
    "    \\end{aligned}\n",
    "    $$"
   ]
  },
  {
   "cell_type": "markdown",
   "metadata": {
    "slideshow": {
     "slide_type": "fragment"
    }
   },
   "source": [
    "![homomorphism category](images/homomorphism.png)"
   ]
  },
  {
   "cell_type": "markdown",
   "metadata": {
    "slideshow": {
     "slide_type": "subslide"
    }
   },
   "source": [
    "3. Adjoint operators of a bilinear form $\\langle\\,,\\,\\rangle$. For $u,v\\in V$, \n",
    "\n",
    "$$\n",
    "\\begin{aligned}\n",
    "\\langle Au, v \\rangle &= \\langle u, A^*v\\rangle.\n",
    "\\end{aligned}\n",
    "$$\n"
   ]
  },
  {
   "cell_type": "markdown",
   "metadata": {
    "slideshow": {
     "slide_type": "fragment"
    }
   },
   "source": [
    "![adjoint category](images/adjoints.png)"
   ]
  },
  {
   "cell_type": "markdown",
   "metadata": {
    "slideshow": {
     "slide_type": "subslide"
    }
   },
   "source": [
    "## A data structure for tensor categories\n",
    "\n",
    "For us a *tensor category* is \n",
    "1. a function $\\textsf{A}: [n] \\rightarrow \\{-1, 0, 1\\}$, and\n",
    "2. a partition of $[n]$."
   ]
  },
  {
   "cell_type": "markdown",
   "metadata": {
    "slideshow": {
     "slide_type": "fragment"
    }
   },
   "source": [
    "The function $\\textsf{A}$ tells us which way the arrows go: $\\downarrow$, $\\parallel$, or $\\uparrow$.\n",
    "\n",
    "The partition tells us which coordinates are treated as equal."
   ]
  },
  {
   "cell_type": "markdown",
   "metadata": {
    "slideshow": {
     "slide_type": "slide"
    }
   },
   "source": [
    "## Examples in $\\textsf{TensorSpace}$\n",
    "\n",
    "Let's look at a tensor created earlier: the multiplication in an algebra\n",
    "\n",
    "$$\n",
    "    \\langle t | : \\text{M}_2(\\mathbb{Q}) \\times \\text{M}_2(\\mathbb{Q}) \\rightarrowtail \\text{M}_2(\\mathbb{Q}).\n",
    "$$"
   ]
  },
  {
   "cell_type": "code",
   "execution_count": 24,
   "metadata": {
    "slideshow": {
     "slide_type": "fragment"
    }
   },
   "outputs": [
    {
     "name": "stdout",
     "output_type": "stream",
     "text": [
      "Tensor category of valence 3 (->,->,->) ({ 0, 1, 2 })\n"
     ]
    }
   ],
   "source": [
    "A := MatrixAlgebra(Q, 2);\n",
    "t := Tensor(A);\n",
    "TensorCategory(t);"
   ]
  },
  {
   "cell_type": "markdown",
   "metadata": {
    "slideshow": {
     "slide_type": "fragment"
    }
   },
   "source": [
    "* all arrows are $\\downarrow$, and\n",
    "* an operator acts the same way in all three coordinates."
   ]
  },
  {
   "cell_type": "markdown",
   "metadata": {
    "slideshow": {
     "slide_type": "subslide"
    }
   },
   "source": [
    "Let's look at an example as a high-dimensional grid."
   ]
  },
  {
   "cell_type": "code",
   "execution_count": 25,
   "metadata": {},
   "outputs": [
    {
     "name": "stdout",
     "output_type": "stream",
     "text": [
      "Tensor of valence 4, U3 x U2 x U1 >-> U0\n",
      "U3 : Full Vector space of degree 2 over GF(2)\n",
      "U2 : Full Vector space of degree 3 over GF(2)\n",
      "U1 : Full Vector space of degree 2 over GF(2)\n",
      "U0 : Full Vector space of degree 3 over GF(2)\n"
     ]
    }
   ],
   "source": [
    "t := Tensor(GF(2), [2, 3, 2, 3], [1..36]);\n",
    "t;"
   ]
  },
  {
   "cell_type": "markdown",
   "metadata": {
    "slideshow": {
     "slide_type": "fragment"
    }
   },
   "source": [
    "The default tensor category."
   ]
  },
  {
   "cell_type": "code",
   "execution_count": 26,
   "metadata": {
    "slideshow": {
     "slide_type": "-"
    }
   },
   "outputs": [
    {
     "name": "stdout",
     "output_type": "stream",
     "text": [
      "Tensor category of valence 4 (->,->,->,->) ({ 1 },{ 2 },{ 0 },{ 3 })\n"
     ]
    }
   ],
   "source": [
    "TensorCategory(t);          // default category"
   ]
  },
  {
   "cell_type": "markdown",
   "metadata": {
    "slideshow": {
     "slide_type": "slide"
    }
   },
   "source": [
    "# Relating tensor spaces and operators"
   ]
  },
  {
   "cell_type": "markdown",
   "metadata": {
    "slideshow": {
     "slide_type": "subslide"
    }
   },
   "source": [
    "## Densor subspaces\n",
    "\n",
    "The $GHZ$ and $W$-state are not equivalent because derivations were not isomorphic.\n",
    "\n",
    "For these kinds of questions, we consider spaces of all tensors sharing common operators. "
   ]
  },
  {
   "cell_type": "markdown",
   "metadata": {
    "slideshow": {
     "slide_type": "fragment"
    }
   },
   "source": [
    "Recall the derivation algebra of $t\\in T$,\n",
    "$$\n",
    "\\begin{aligned}\n",
    "\\mathcal{D}_t &= \\{ (X, Y, Z) \\in \\Omega \\mid \\forall u, v,\\; \\langle t | Xu, v\\rangle + \\langle t | u, Yv\\rangle = Z\\langle t | u, v\\rangle\\}\n",
    "\\end{aligned}\n",
    "$$"
   ]
  },
  {
   "cell_type": "markdown",
   "metadata": {
    "slideshow": {
     "slide_type": "fragment"
    }
   },
   "source": [
    "For $t\\in T$, the *densor subsapce* of $t$ is the tensor subspace\n",
    "\n",
    "$$\n",
    "    \\textsf{Dens}(t) = \\{ s\\in T \\mid \\mathcal{D}_t \\subseteq \\mathcal{D}_s \\}. \n",
    "$$\n"
   ]
  },
  {
   "cell_type": "markdown",
   "metadata": {
    "slideshow": {
     "slide_type": "slide"
    }
   },
   "source": [
    "### Example from Lie algebras\n",
    "\n",
    "The Lie algebra of $3\\times 3$ trace zero matrices over a field $K$, denoted $\\mathfrak{sl}_3$. \n",
    "\n",
    "The tensor given by the matrix commutator is the following."
   ]
  },
  {
   "cell_type": "code",
   "execution_count": 27,
   "metadata": {
    "slideshow": {
     "slide_type": "fragment"
    }
   },
   "outputs": [
    {
     "name": "stdout",
     "output_type": "stream",
     "text": [
      "Tensor of valence 3, U2 x U1 >-> U0\n",
      "U2 : Full Vector space of degree 8 over GF(7)\n",
      "U1 : Full Vector space of degree 8 over GF(7)\n",
      "U0 : Full Vector space of degree 8 over GF(7)\n"
     ]
    }
   ],
   "source": [
    "K := GF(7);\n",
    "sl3 := LieAlgebra(\"A2\", K);\n",
    "t := Tensor(sl3);\n",
    "t; "
   ]
  },
  {
   "cell_type": "markdown",
   "metadata": {
    "slideshow": {
     "slide_type": "subslide"
    }
   },
   "source": [
    "Note the tensor category."
   ]
  },
  {
   "cell_type": "code",
   "execution_count": 28,
   "metadata": {
    "slideshow": {
     "slide_type": "-"
    }
   },
   "outputs": [
    {
     "name": "stdout",
     "output_type": "stream",
     "text": [
      "Tensor category of valence 3 (->,->,->) ({ 0, 1, 2 })\n"
     ]
    }
   ],
   "source": [
    "TensorCategory(t);"
   ]
  },
  {
   "cell_type": "markdown",
   "metadata": {
    "slideshow": {
     "slide_type": "fragment"
    }
   },
   "source": [
    "Each operator acts the same on each of the three coordinates.\n",
    "\n",
    "From standard results, $\\mathcal{D}_t \\cong \\mathfrak{sl}_3$."
   ]
  },
  {
   "cell_type": "code",
   "execution_count": 29,
   "metadata": {
    "slideshow": {
     "slide_type": "fragment"
    }
   },
   "outputs": [
    {
     "name": "stdout",
     "output_type": "stream",
     "text": [
      "8\n"
     ]
    }
   ],
   "source": [
    "D := DerivationAlgebra(t);\n",
    "Dimension(D);"
   ]
  },
  {
   "cell_type": "markdown",
   "metadata": {},
   "source": [
    "Few tensors contain an $8$-dimensional Lie algebra."
   ]
  },
  {
   "cell_type": "markdown",
   "metadata": {
    "slideshow": {
     "slide_type": "subslide"
    }
   },
   "source": [
    "The densor subspace of $t$ is computed using $\\textsf{Densor}$."
   ]
  },
  {
   "cell_type": "code",
   "execution_count": 30,
   "metadata": {
    "slideshow": {
     "slide_type": "-"
    }
   },
   "outputs": [
    {
     "name": "stdout",
     "output_type": "stream",
     "text": [
      "Tensor space of dimension 2 over GF(7) with valence 3\n",
      "U2 : Full Vector space of degree 8 over GF(7)\n",
      "U1 : Full Vector space of degree 8 over GF(7)\n",
      "U0 : Full Vector space of degree 8 over GF(7)\n"
     ]
    }
   ],
   "source": [
    "Dens := UniversalDensorSubspace(t);\n",
    "Dens;"
   ]
  },
  {
   "cell_type": "markdown",
   "metadata": {
    "slideshow": {
     "slide_type": "fragment"
    }
   },
   "source": [
    "The dimension of the densor subspace is tiny compared to the ambient space."
   ]
  },
  {
   "cell_type": "code",
   "execution_count": 31,
   "metadata": {
    "slideshow": {
     "slide_type": "-"
    }
   },
   "outputs": [
    {
     "name": "stdout",
     "output_type": "stream",
     "text": [
      "512 2\n"
     ]
    }
   ],
   "source": [
    "T := Parent(t);                      // full tensor space of t\n",
    "Dimension(T), Dimension(Dens);"
   ]
  },
  {
   "cell_type": "markdown",
   "metadata": {
    "slideshow": {
     "slide_type": "slide"
    }
   },
   "source": [
    "## Example: matrix multiplication\n",
    "\n",
    "The tensor space $T$ framed by $(K^{12}, K^8, K^6)$ contains \n",
    "\n",
    "$$\n",
    "    \\langle t | : \\text{M}_{3\\times 4} \\times \\text{M}_{4\\times 2} \\rightarrowtail \\text{M}_{3\\times 2}.\n",
    "$$"
   ]
  },
  {
   "cell_type": "code",
   "execution_count": 32,
   "metadata": {
    "slideshow": {
     "slide_type": "fragment"
    }
   },
   "outputs": [
    {
     "name": "stdout",
     "output_type": "stream",
     "text": [
      "Tensor of valence 3, U2 x U1 >-> U0\n",
      "U2 : Full Vector space of degree 12 over Rational Field\n",
      "U1 : Full Vector space of degree 8 over Rational Field\n",
      "U0 : Full Vector space of degree 6 over Rational Field\n"
     ]
    }
   ],
   "source": [
    "t := MatrixTensor(Q, [3, 4, 2]);\n",
    "t;"
   ]
  },
  {
   "cell_type": "markdown",
   "metadata": {
    "slideshow": {
     "slide_type": "subslide"
    }
   },
   "source": [
    "The derivation algebra of $t$ is large because matrix mult is distributive.\n",
    "\n",
    "Recall the derivation equation:\n",
    "$$\n",
    "    \\langle t | Xu, v\\rangle + \\langle t | u, Yv \\rangle = Z\\langle t | u, v \\rangle\n",
    "$$"
   ]
  },
  {
   "cell_type": "markdown",
   "metadata": {
    "slideshow": {
     "slide_type": "fragment"
    }
   },
   "source": [
    "If $X\\in \\text{M}_{3\\times 3}$, then we re-interpret\n",
    "$$\n",
    "    (XU)*V + U*(0V) = X(U*V).\n",
    "$$\n",
    "\n",
    "Similar equations hold for $Y\\in\\text{M}_{4\\times 4}$ and $Z\\in\\text{M}_{2\\times 2}$."
   ]
  },
  {
   "cell_type": "markdown",
   "metadata": {
    "slideshow": {
     "slide_type": "subslide"
    }
   },
   "source": [
    "We denote the algebra $\\text{M}_{n\\times n}$ with the matrix commutator by $\\mathfrak{gl}_n$. \n",
    "\n",
    "**Fact.** $\\mathcal{D}_t \\cong \\left(\\mathfrak{gl}_3\\oplus \\mathfrak{gl}_4 \\oplus\\mathfrak{gl}_2\\right)/K$."
   ]
  },
  {
   "cell_type": "markdown",
   "metadata": {
    "slideshow": {
     "slide_type": "fragment"
    }
   },
   "source": [
    "We can easily verify that the dimensions match."
   ]
  },
  {
   "cell_type": "code",
   "execution_count": 33,
   "metadata": {},
   "outputs": [
    {
     "name": "stdout",
     "output_type": "stream",
     "text": [
      "true\n"
     ]
    }
   ],
   "source": [
    "D := DerivationAlgebra(t);\n",
    "Dimension(D) eq (3^2 + 4^2 + 2^2 - 1);             // compare dimensions"
   ]
  },
  {
   "cell_type": "markdown",
   "metadata": {
    "slideshow": {
     "slide_type": "subslide"
    }
   },
   "source": [
    "With derivaton algebra so large, the densor subspace must be small."
   ]
  },
  {
   "cell_type": "code",
   "execution_count": 34,
   "metadata": {},
   "outputs": [
    {
     "name": "stdout",
     "output_type": "stream",
     "text": [
      "Tensor space of dimension 1 over Rational Field with valence 3\n",
      "U2 : Full Vector space of degree 12 over Rational Field\n",
      "U1 : Full Vector space of degree 8 over Rational Field\n",
      "U0 : Full Vector space of degree 6 over Rational Field\n"
     ]
    }
   ],
   "source": [
    "Dens := UniversalDensorSubspace(t);\n",
    "Dens;"
   ]
  },
  {
   "cell_type": "markdown",
   "metadata": {
    "slideshow": {
     "slide_type": "fragment"
    }
   },
   "source": [
    "Therefore, in a $576$-dimensional space, $T$, matrix multiplication is set apart from the rest."
   ]
  },
  {
   "cell_type": "markdown",
   "metadata": {
    "slideshow": {
     "slide_type": "slide"
    }
   },
   "source": [
    "# How do we compute densor spaces?"
   ]
  },
  {
   "cell_type": "markdown",
   "metadata": {
    "slideshow": {
     "slide_type": "subslide"
    }
   },
   "source": [
    "## A dual solve to derivations\n",
    "\n",
    "Recall, we consider Sylvester-like systems of the form:\n",
    "$$\n",
    "    XT_{**}^{(k)} + T_{**}^{(k)}Y = 0\n",
    "$$\n",
    "\n",
    "The same system is used to get the densor subspace$-$the roles are swapped."
   ]
  },
  {
   "cell_type": "markdown",
   "metadata": {
    "slideshow": {
     "slide_type": "fragment"
    }
   },
   "source": [
    "We are given the derivation algebra, so we slice a symbolic tensor. \n",
    "\n",
    "Simultaneously solve a \"dual\" version of the Sylvester-like equations."
   ]
  },
  {
   "cell_type": "markdown",
   "metadata": {
    "slideshow": {
     "slide_type": "subslide"
    }
   },
   "source": [
    "**Theorem. (Brooksbank-M.-Wilson)** There exists an algorithm to simultaneously solve a \"dual\" Sylvester-like system using $O(d^9m^2)$ field operations, given $m$ operators acting on a $(d\\times d\\times d)$-grid."
   ]
  },
  {
   "cell_type": "markdown",
   "metadata": {
    "slideshow": {
     "slide_type": "fragment"
    }
   },
   "source": [
    "### *Open*: Does a similar improvement apply for these equations as well? What is the resulting complexity?"
   ]
  },
  {
   "cell_type": "markdown",
   "metadata": {
    "slideshow": {
     "slide_type": "slide"
    }
   },
   "source": [
    "## Summary\n",
    "\n",
    "Still uncovering new algebraic data from tensors, and this is a snapshot of $\\textsf{TensorSpace}$. \n",
    "\n",
    "Context through the frame and tensor category give flexibility in the data structures.\n",
    "\n",
    "These algebras provide general tools to different kinds of applications."
   ]
  }
 ],
 "metadata": {
  "celltoolbar": "Slideshow",
  "kernelspec": {
   "display_name": "Magma",
   "language": "magma",
   "name": "magma"
  },
  "language_info": {
   "codemirror_mode": "magma",
   "file_extension": ".m",
   "mimetype": "text/x-magma",
   "name": "magma",
   "version": "2.24-4"
  },
  "rise": {
   "theme": "serif"
  }
 },
 "nbformat": 4,
 "nbformat_minor": 2
}
