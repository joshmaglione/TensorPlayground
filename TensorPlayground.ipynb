{
 "cells": [
  {
   "cell_type": "markdown",
   "metadata": {
    "slideshow": {
     "slide_type": "slide"
    }
   },
   "source": [
    "# A Tensor Playground: \n",
    "\n",
    "### a demonstration of $\\textsf{TensorSpace}$\n",
    "\n",
    "#### Joshua Maglione\n",
    "\n",
    "jmaglione@math.uni-bielefeld.de\n",
    "\n",
    "Bielefeld University"
   ]
  },
  {
   "cell_type": "markdown",
   "metadata": {
    "slideshow": {
     "slide_type": "slide"
    }
   },
   "source": [
    "Began in 2015 and is continually evolving.\n",
    "\n",
    "Joint with [Pete Brooksbank](https://www.bucknell.edu/academics/arts-and-sciences-college-of/academic-departments-and-programs/mathematics/faculty-and-staff/peter-brooksbank) and [James Wilson](https://www.math.colostate.edu/~jwilson/). \n",
    "\n",
    "Funded by NSF: DMS-1620454."
   ]
  },
  {
   "cell_type": "markdown",
   "metadata": {
    "slideshow": {
     "slide_type": "fragment"
    }
   },
   "source": [
    "$\\textsf{TensorSpace}$ refers to a collection of Magma packages:\n",
    "* [TensorSpace](https://github.com/thetensor-space/TensorSpace): data structures for tensors,\n",
    "* [Sylver](https://github.com/thetensor-space/Sylver): algorithms for simultaneous Sylvester equations,\n",
    "* [Densor](https://github.com/thetensor-space/Densor): algorithms to construct linear closures of tensor spaces."
   ]
  },
  {
   "cell_type": "markdown",
   "metadata": {
    "slideshow": {
     "slide_type": "slide"
    }
   },
   "source": [
    "# Constructing Tensors in $\\textsf{TensorSpace}$"
   ]
  },
  {
   "cell_type": "markdown",
   "metadata": {
    "slideshow": {
     "slide_type": "subslide"
    }
   },
   "source": [
    "## Flexible data structure for tensors \n",
    "---\n",
    "\n",
    "**Goal:** Want flexible definition for tensors. \n",
    "\n",
    "**Questions**: \n",
    "1. Is a tensor more than a high-dimensional grid? \n",
    "\n",
    "2. Is a tensor more than a multilinear map?"
   ]
  },
  {
   "cell_type": "markdown",
   "metadata": {
    "slideshow": {
     "slide_type": "subslide"
    }
   },
   "source": [
    "## Examples require more context\n",
    "\n",
    "1. $b$ bilinear form of $V$. Interpret:\n",
    "\n",
    "$$\n",
    "    \\langle b | : V \\times V \\rightarrowtail K\n",
    "$$"
   ]
  },
  {
   "cell_type": "markdown",
   "metadata": {
    "slideshow": {
     "slide_type": "fragment"
    }
   },
   "source": [
    "2. $\\psi$ an entangled system of qubits. Interpret:\n",
    "\n",
    "$$\n",
    "    \\langle \\psi | : \\mathbb{C}^2\\times \\cdots \\times \\mathbb{C}^2 \\rightarrowtail \\mathbb{C}\n",
    "$$"
   ]
  },
  {
   "cell_type": "markdown",
   "metadata": {
    "slideshow": {
     "slide_type": "fragment"
    }
   },
   "source": [
    "3. $V$ an $A$-module. Interpret:\n",
    "\n",
    "$$\n",
    "    \\langle \\mu | : V \\times A \\rightarrowtail V\n",
    "$$\n"
   ]
  },
  {
   "cell_type": "markdown",
   "metadata": {
    "slideshow": {
     "slide_type": "skip"
    }
   },
   "source": [
    "4. $T$ a high-dimensional grid of bits. Interpret:\n",
    "\n",
    "$$\n",
    "    \\langle T | : \\mathbb{F}_2^{d_n} \\times \\cdots \\times \\mathbb{F}_2^{d_1} \\rightarrowtail \\mathbb{F}_2^{d_0}\n",
    "$$"
   ]
  },
  {
   "cell_type": "markdown",
   "metadata": {
    "slideshow": {
     "slide_type": "slide"
    }
   },
   "source": [
    "## Tensors in $\\textsf{TensorSpace}$\n",
    "\n",
    "We require tensors to have three things:\n",
    "1. **frame**:    $(U_0,\\ldots, U_n)$,\n",
    "2. **function**: $U_n\\times \\cdots \\times U_1\\rightarrowtail U_0$,\n",
    "3. **category**\\*."
   ]
  },
  {
   "cell_type": "markdown",
   "metadata": {
    "slideshow": {
     "slide_type": "fragment"
    }
   },
   "source": [
    "\\*We do not specify now, but we will come back to this. \n",
    "\n",
    "A \"default\" category is assigned when not given."
   ]
  },
  {
   "cell_type": "markdown",
   "metadata": {
    "slideshow": {
     "slide_type": "slide"
    }
   },
   "source": [
    "## Constructing a tensor from scratch\n",
    "\n",
    "We construct the tensor \n",
    "\n",
    "$$\n",
    "\\begin{aligned}\n",
    "    t &: \\text{M}_2(\\mathbb{Q}) \\times \\text{M}_2(\\mathbb{Q}) \\rightarrowtail \\text{M}_2(\\mathbb{Q}), & (A, B) &\\mapsto AB\n",
    "\\end{aligned}\n",
    "$$\n",
    "\n",
    "We have two structures we define:\n",
    "1. **frame** $=(\\text{M}_2(\\mathbb{Q}),\\; \\text{M}_2(\\mathbb{Q}),\\; \\text{M}_2(\\mathbb{Q}))$,\n",
    "2. **function** $=(A, B)\\mapsto AB$.\n"
   ]
  },
  {
   "cell_type": "markdown",
   "metadata": {
    "slideshow": {
     "slide_type": "subslide"
    }
   },
   "source": [
    "First we define our frame."
   ]
  },
  {
   "cell_type": "code",
   "execution_count": 1,
   "metadata": {
    "collapsed": true,
    "slideshow": {
     "slide_type": "-"
    }
   },
   "outputs": [
    {
     "name": "stdout",
     "output_type": "stream",
     "text": [
      "[\n",
      "Full Matrix Algebra of degree 2 over Rational Field,\n",
      "Full Matrix Algebra of degree 2 over Rational Field,\n",
      "Full Matrix Algebra of degree 2 over Rational Field\n",
      "]\n"
     ]
    }
   ],
   "source": [
    "Q := Rationals();           \n",
    "A := MatrixAlgebra(Q, 2);              // 2 x 2 matrices over Q\n",
    "frame := [A, A, A]; \n",
    "frame;"
   ]
  },
  {
   "cell_type": "markdown",
   "metadata": {
    "slideshow": {
     "slide_type": "fragment"
    }
   },
   "source": [
    "Require a function to map a tuple of matrices to their product. For example:"
   ]
  },
  {
   "cell_type": "code",
   "execution_count": 2,
   "metadata": {},
   "outputs": [
    {
     "name": "stdout",
     "output_type": "stream",
     "text": [
      "Tensor of valence 3, U2 x U1 >-> U0\n",
      "U2 : Full Vector space of degree 4 over Rational Field\n",
      "U1 : Full Vector space of degree 4 over Rational Field\n",
      "U0 : Full Vector space of degree 4 over Rational Field\n"
     ]
    }
   ],
   "source": [
    "mult := func< x | x[1]*x[2] >;         // <x1, x2> |-> x1*x2\n",
    "t := Tensor(frame, mult);\n",
    "t;"
   ]
  },
  {
   "cell_type": "markdown",
   "metadata": {
    "slideshow": {
     "slide_type": "slide"
    }
   },
   "source": [
    "## Tensors as multilinear maps\n",
    "\n",
    "Let's do a brief sanity check, and verify `t` does what we expect."
   ]
  },
  {
   "cell_type": "code",
   "execution_count": 3,
   "metadata": {},
   "outputs": [
    {
     "name": "stdout",
     "output_type": "stream",
     "text": [
      "[  2 2/5]\n",
      "[  0  -1]\n",
      "\n",
      "[ 0 -3]\n",
      "[ 5  7]\n"
     ]
    }
   ],
   "source": [
    "X := A![2, 2/5, 0, -1];               // define matrices\n",
    "Y := A![0, -3, 5, 7];                 // from sequences \n",
    "X, Y;"
   ]
  },
  {
   "cell_type": "code",
   "execution_count": 4,
   "metadata": {
    "slideshow": {
     "slide_type": "fragment"
    }
   },
   "outputs": [
    {
     "name": "stdout",
     "output_type": "stream",
     "text": [
      "[    2 -16/5]\n",
      "[   -5    -7]\n",
      "(    2 -16/5    -5    -7)\n"
     ]
    }
   ],
   "source": [
    "X*Y, <X, Y> @ t;"
   ]
  },
  {
   "cell_type": "markdown",
   "metadata": {
    "slideshow": {
     "slide_type": "subslide"
    }
   },
   "source": [
    "Recall, the print statement for `t`: **no** matrix algebras"
   ]
  },
  {
   "cell_type": "code",
   "execution_count": 5,
   "metadata": {},
   "outputs": [
    {
     "name": "stdout",
     "output_type": "stream",
     "text": [
      "Tensor of valence 3, U2 x U1 >-> U0\n",
      "U2 : Full Vector space of degree 4 over Rational Field\n",
      "U1 : Full Vector space of degree 4 over Rational Field\n",
      "U0 : Full Vector space of degree 4 over Rational Field\n"
     ]
    }
   ],
   "source": [
    "t;"
   ]
  },
  {
   "cell_type": "markdown",
   "metadata": {
    "slideshow": {
     "slide_type": "fragment"
    }
   },
   "source": [
    "It states vector spaces, but we gave it matrices: `X` and `Y`. \n",
    "\n",
    "The frame gives context, so that we leave the typing to the machines. "
   ]
  },
  {
   "cell_type": "code",
   "execution_count": 6,
   "metadata": {},
   "outputs": [
    {
     "name": "stdout",
     "output_type": "stream",
     "text": [
      "(    2 -16/5    -5    -7)\n",
      "(0 0 0 0)\n"
     ]
    }
   ],
   "source": [
    "<X, [0, -3, 5, 7]> @ t;\n",
    "<0, [1, 1, 1, 1]> @ t;"
   ]
  },
  {
   "cell_type": "markdown",
   "metadata": {
    "slideshow": {
     "slide_type": "slide"
    }
   },
   "source": [
    "## Structure constants \n",
    "\n",
    "We define a tensor of the form \n",
    "\n",
    "$$\n",
    "\\langle t| : K^{d_n} \\times \\cdots \\times K^{d_1} \\rightarrowtail K^{d_0}\n",
    "$$\n",
    "\n",
    "by $d_0\\cdots d_n$ elements in $K$: a $(d_n\\times \\cdots \\times d_0)$-grid \n",
    "$$\n",
    "[t_{i_n\\cdots i_1}^{j_0}].\n",
    "$$"
   ]
  },
  {
   "cell_type": "markdown",
   "metadata": {
    "slideshow": {
     "slide_type": "fragment"
    }
   },
   "source": [
    "Notational challenge to do this for general $n$. We do $n=2$:\n",
    "\n",
    "$$\n",
    "(u, v)\\mapsto \\left( \n",
    "\t\t\\sum_{i=1}^{d_2}\\sum_{j=1}^{d_1} u_{i}t_{ij}^{1} v_{j},\n",
    "\t\t\\ldots,\n",
    "\t\t\\sum_{i=1}^{d_2}\\sum_{j=1}^{d_1} u_{i}t_{ij}^{d_0} v_{j}\\right)\\in K^{d_0}.\n",
    "$$"
   ]
  },
  {
   "cell_type": "markdown",
   "metadata": {
    "slideshow": {
     "slide_type": "subslide"
    }
   },
   "source": [
    "Now, let's construct an example."
   ]
  },
  {
   "cell_type": "code",
   "execution_count": 7,
   "metadata": {},
   "outputs": [
    {
     "name": "stdout",
     "output_type": "stream",
     "text": [
      "Tensor of valence 4, U3 x U2 x U1 >-> U0\n",
      "U3 : Full Vector space of degree 3 over Rational Field\n",
      "U2 : Full Vector space of degree 2 over Rational Field\n",
      "U1 : Full Vector space of degree 5 over Rational Field\n",
      "U0 : Full Vector space of degree 4 over Rational Field\n"
     ]
    }
   ],
   "source": [
    "d := [3, 2, 5, 4];                 // dimensions of frame\n",
    "grid := [1..3*2*5*4];              // ints 1, ..., 120\n",
    "t := Tensor(Q, d, grid);\n",
    "t;"
   ]
  },
  {
   "cell_type": "markdown",
   "metadata": {
    "slideshow": {
     "slide_type": "fragment"
    }
   },
   "source": [
    "We verify that the structure constants of `t` are what we expect."
   ]
  },
  {
   "cell_type": "code",
   "execution_count": 8,
   "metadata": {},
   "outputs": [
    {
     "name": "stdout",
     "output_type": "stream",
     "text": [
      "[ 1, 2, 3, 4, 5, 6, 7, 8, 9, 10 ]\n"
     ]
    }
   ],
   "source": [
    "StructureConstants(t)[1..10];         // Only first 10 entries"
   ]
  },
  {
   "cell_type": "markdown",
   "metadata": {
    "slideshow": {
     "slide_type": "subslide"
    }
   },
   "source": [
    "The grid model allows for easier understanding of data manipulation. \n",
    "\n",
    "We describe two operations on tensors that potentially change the frame.\n",
    "\n",
    "GRAPHICS"
   ]
  },
  {
   "cell_type": "markdown",
   "metadata": {
    "slideshow": {
     "slide_type": "slide"
    }
   },
   "source": [
    "## Slicing\n",
    "\n",
    "Recall, our current tensor has the frame:\n",
    "$$\n",
    "    \\langle t | : \\mathbb{Q}^3 \\times \\mathbb{Q}^2 \\times \\mathbb{Q}^5 \\rightarrow \\mathbb{Q}^4\n",
    "$$\n",
    "\n",
    "We grab any entry of the grid  $[t_{i_n\\cdots i_1}^{j_0}]$ and consider the corresponding sub-grid.\n",
    "\n",
    "This can be interpreted as a tensor itself."
   ]
  },
  {
   "cell_type": "markdown",
   "metadata": {
    "slideshow": {
     "slide_type": "fragment"
    }
   },
   "source": [
    "We query for the $t_{3,2,5}^{4}$ constant:"
   ]
  },
  {
   "cell_type": "code",
   "execution_count": 9,
   "metadata": {
    "scrolled": true
   },
   "outputs": [
    {
     "name": "stdout",
     "output_type": "stream",
     "text": [
      "[ 120 ]\n"
     ]
    }
   ],
   "source": [
    "ind := [{3}, {2}, {5}, {4}];                  // last entry\n",
    "Slice(t, ind);"
   ]
  },
  {
   "cell_type": "markdown",
   "metadata": {
    "slideshow": {
     "slide_type": "subslide"
    }
   },
   "source": [
    "We can query any sequence of indices."
   ]
  },
  {
   "cell_type": "code",
   "execution_count": 10,
   "metadata": {},
   "outputs": [
    {
     "name": "stdout",
     "output_type": "stream",
     "text": [
      "[ 24, 32, 36, 104, 112, 116 ]\n"
     ]
    }
   ],
   "source": [
    "indices := [{1, 3}, {2}, {1, 3, 4}, {4}];     // 6 entries\n",
    "Slice(t, indices);"
   ]
  },
  {
   "cell_type": "markdown",
   "metadata": {
    "slideshow": {
     "slide_type": "fragment"
    }
   },
   "source": [
    "The above example can be interpreted as a new tensor\n",
    "$$\n",
    "    \\langle s | : \\mathbb{Q}^2 \\times \\mathbb{Q} \\times \\mathbb{Q}^3 \\rightarrowtail \\mathbb{Q}.\n",
    "$$\n",
    "\n",
    "So it might be helpful to interpret the output as a matrix."
   ]
  },
  {
   "cell_type": "code",
   "execution_count": 11,
   "metadata": {},
   "outputs": [
    {
     "name": "stdout",
     "output_type": "stream",
     "text": [
      "[\n",
      "[ 24  32  36]\n",
      "[104 112 116]\n",
      "]\n"
     ]
    }
   ],
   "source": [
    "SliceAsMatrices(t, indices, 3, 1);"
   ]
  },
  {
   "cell_type": "markdown",
   "metadata": {
    "slideshow": {
     "slide_type": "slide"
    }
   },
   "source": [
    "## Shuffling\n",
    "\n",
    "We apply permutations to the frame. Suppose we are framed by vector spaces\n",
    "\n",
    "$$\n",
    "\\langle t | : U_n \\times \\cdots \\times U_1\\rightarrowtail U_0.\n",
    "$$\n",
    "\n",
    "For a permutation $\\sigma$ of $\\{0, \\ldots, n\\}$, a $\\sigma$-shuffle of $t$ is a tensor\n",
    "\n",
    "$$\n",
    "\\langle t^\\sigma | : U_{\\sigma(n)} \\times \\cdots \\times U_{\\sigma(1)} \\rightarrowtail U_{\\sigma(0)}.\n",
    "$$\n",
    "\n",
    "*Note*: shuffling requires dual-spaces. $\\textsf{TensorSpace}$ handles this."
   ]
  },
  {
   "cell_type": "markdown",
   "metadata": {
    "slideshow": {
     "slide_type": "subslide"
    }
   },
   "source": [
    "We continue with current example:\n",
    "\n",
    "$$\n",
    "    \\langle t | : \\mathbb{Q}^3 \\times \\mathbb{Q}^2 \\times \\mathbb{Q}^5 \\rightarrowtail \\mathbb{Q}^4.\n",
    "$$\n",
    "\n",
    "We apply the permutation $\\sigma = (0, 2, 3, 1)$."
   ]
  },
  {
   "cell_type": "code",
   "execution_count": 12,
   "metadata": {
    "collapsed": true
   },
   "outputs": [
    {
     "name": "stdout",
     "output_type": "stream",
     "text": [
      "Tensor of valence 4, U3 x U2 x U1 >-> U0\n",
      "U3 : Full Vector space of degree 5 over Rational Field\n",
      "U2 : Full Vector space of degree 3 over Rational Field\n",
      "U1 : Full Vector space of degree 4 over Rational Field\n",
      "U0 : Full Vector space of degree 2 over Rational Field\n"
     ]
    }
   ],
   "source": [
    "sigma := [2, 0, 3, 1];                // cycle: (0, 2, 3, 1)\n",
    "s := Shuffle(t, sigma);\n",
    "s;"
   ]
  },
  {
   "cell_type": "markdown",
   "metadata": {
    "slideshow": {
     "slide_type": "fragment"
    }
   },
   "source": [
    "We can take a look at the structure constants."
   ]
  },
  {
   "cell_type": "code",
   "execution_count": 13,
   "metadata": {},
   "outputs": [
    {
     "name": "stdout",
     "output_type": "stream",
     "text": [
      "[ 1, 3, 5, 7, 25, 27, 29, 31, 49, 51 ]\n"
     ]
    }
   ],
   "source": [
    "StructureConstants(s)[1..10];        // first 10 entries"
   ]
  },
  {
   "cell_type": "markdown",
   "metadata": {
    "slideshow": {
     "slide_type": "slide"
    }
   },
   "source": [
    "# Algebras associated to tensors"
   ]
  },
  {
   "cell_type": "markdown",
   "metadata": {
    "slideshow": {
     "slide_type": "subslide"
    }
   },
   "source": [
    "These definitions apply in greater generality, but we fix a $K$-bilinear map \n",
    "\n",
    "$$\n",
    "    \\langle t | : U\\times V\\rightarrowtail W.\n",
    "$$\n",
    "\n",
    "Set $\\Omega = \\text{End}(U)\\times \\text{End}(V)\\times \\text{End}(W)$. All of our algebras are subsets of $\\Omega$."
   ]
  },
  {
   "cell_type": "markdown",
   "metadata": {
    "slideshow": {
     "slide_type": "fragment"
    }
   },
   "source": [
    "The first algebra we define is the *centroid*, and the second is the *derivation algebra*.\n",
    "\n",
    "$$\n",
    "\\begin{aligned}\n",
    "\\mathcal{C}_t &= \\{ (X, Y, Z) \\in\\Omega \\mid \\forall u, v,\\; Z\\langle t | u, v\\rangle = \\langle t | Xu, v\\rangle = \\langle t | u, Yv\\rangle \\} \\\\\n",
    "\\mathcal{D}_t &= \\{ (X, Y, Z) \\in \\Omega \\mid \\forall u, v,\\; Z\\langle t | u, v\\rangle = \\langle t | Xu, v\\rangle + \\langle t | u, Yv\\rangle \\}\n",
    "\\end{aligned}\n",
    "$$"
   ]
  },
  {
   "cell_type": "markdown",
   "metadata": {
    "slideshow": {
     "slide_type": "fragment"
    }
   },
   "source": [
    "**Fact.** $\\mathcal{C}_t$ is a $K$-algebra with $1$, and $\\mathcal{D}_t$ is a Lie algebra. "
   ]
  }
 ],
 "metadata": {
  "celltoolbar": "Slideshow",
  "kernelspec": {
   "display_name": "Magma",
   "language": "magma",
   "name": "magma"
  },
  "language_info": {
   "codemirror_mode": "magma",
   "file_extension": ".m",
   "mimetype": "text/x-magma",
   "name": "magma",
   "version": "2.24-4"
  },
  "rise": {
   "theme": "serif"
  }
 },
 "nbformat": 4,
 "nbformat_minor": 2
}
